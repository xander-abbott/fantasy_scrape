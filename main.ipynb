{
 "cells": [
  {
   "cell_type": "code",
   "execution_count": 1,
   "metadata": {},
   "outputs": [
    {
     "name": "stdout",
     "output_type": "stream",
     "text": [
      "[<tr class=\"mpb-player-19236\"><td>1</td><td class=\"player-label\"><a class=\"player-name\" href=\"/nfl/stats/justin-jefferson.php\">Justin Jefferson</a> (MIN) <a aria-hidden=\"true\" class=\"fp-player-link fp-id-19236\" fp-player-name=\"Justin Jefferson\" href=\"#\" tabindex=\"-1\"></a></td><td class=\"center\">128</td>\n",
      "<td class=\"center\">184</td>\n",
      "<td class=\"center\">1,809</td>\n",
      "<td class=\"center\">14.1</td>\n",
      "<td class=\"center\">64</td>\n",
      "<td class=\"center\">49</td>\n",
      "<td class=\"center\">8</td>\n",
      "<td class=\"center\">4</td>\n",
      "<td class=\"center\">24</td>\n",
      "<td class=\"center\">1</td>\n",
      "<td class=\"center\">0</td>\n",
      "<td class=\"center\">17</td>\n",
      "<td class=\"center\">368.6</td>\n",
      "<td class=\"center\">21.7</td>\n",
      "<td class=\"center\">100.0%</td>\n",
      "</tr>]\n"
     ]
    }
   ],
   "source": [
    "from bs4 import BeautifulSoup\n",
    "from scrape import extract"
   ]
  },
  {
   "cell_type": "code",
   "execution_count": 2,
   "metadata": {},
   "outputs": [
    {
     "name": "stdout",
     "output_type": "stream",
     "text": [
      "[<tr class=\"mpb-player-19236\"><td>1</td><td class=\"player-label\"><a class=\"player-name\" href=\"/nfl/stats/justin-jefferson.php\">Justin Jefferson</a> (MIN) <a aria-hidden=\"true\" class=\"fp-player-link fp-id-19236\" fp-player-name=\"Justin Jefferson\" href=\"#\" tabindex=\"-1\"></a></td><td class=\"center\">128</td>\n",
      "<td class=\"center\">184</td>\n",
      "<td class=\"center\">1,809</td>\n",
      "<td class=\"center\">14.1</td>\n",
      "<td class=\"center\">64</td>\n",
      "<td class=\"center\">49</td>\n",
      "<td class=\"center\">8</td>\n",
      "<td class=\"center\">4</td>\n",
      "<td class=\"center\">24</td>\n",
      "<td class=\"center\">1</td>\n",
      "<td class=\"center\">0</td>\n",
      "<td class=\"center\">17</td>\n",
      "<td class=\"center\">368.6</td>\n",
      "<td class=\"center\">21.7</td>\n",
      "<td class=\"center\">100.0%</td>\n",
      "</tr>]\n"
     ]
    }
   ],
   "source": [
    "res = extract(\"wr\", \"_\", \"2022\", \"PPR\")\n",
    "print(res)\n"
   ]
  },
  {
   "cell_type": "code",
   "execution_count": 14,
   "metadata": {},
   "outputs": [
    {
     "ename": "AttributeError",
     "evalue": "'str' object has no attribute 'find_all'",
     "output_type": "error",
     "traceback": [
      "\u001b[1;31m---------------------------------------------------------------------------\u001b[0m",
      "\u001b[1;31mAttributeError\u001b[0m                            Traceback (most recent call last)",
      "\u001b[1;32m~\\AppData\\Local\\Temp/ipykernel_13684/1997349425.py\u001b[0m in \u001b[0;36m<module>\u001b[1;34m\u001b[0m\n\u001b[1;32m----> 1\u001b[1;33m \u001b[0mrows\u001b[0m \u001b[1;33m=\u001b[0m \u001b[0mres\u001b[0m\u001b[1;33m.\u001b[0m\u001b[0mfind_all\u001b[0m\u001b[1;33m(\u001b[0m\u001b[1;34m\"tr\"\u001b[0m\u001b[1;33m)\u001b[0m\u001b[1;33m\u001b[0m\u001b[1;33m\u001b[0m\u001b[0m\n\u001b[0m",
      "\u001b[1;31mAttributeError\u001b[0m: 'str' object has no attribute 'find_all'"
     ]
    }
   ],
   "source": [
    "rows = res.find_all(\"tr\")"
   ]
  }
 ],
 "metadata": {
  "kernelspec": {
   "display_name": "Python 3",
   "language": "python",
   "name": "python3"
  },
  "language_info": {
   "codemirror_mode": {
    "name": "ipython",
    "version": 3
   },
   "file_extension": ".py",
   "mimetype": "text/x-python",
   "name": "python",
   "nbconvert_exporter": "python",
   "pygments_lexer": "ipython3",
   "version": "3.9.7"
  },
  "orig_nbformat": 4
 },
 "nbformat": 4,
 "nbformat_minor": 2
}
